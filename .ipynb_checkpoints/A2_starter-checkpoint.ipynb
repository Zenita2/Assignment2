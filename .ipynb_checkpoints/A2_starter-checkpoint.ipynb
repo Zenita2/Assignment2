{
 "cells": [
  {
   "cell_type": "markdown",
   "id": "84f657ff",
   "metadata": {},
   "source": [
    "# Assignment 2 starter code\n",
    "This notebook contains code to run [coreferee](https://github.com/explosion/coreferee), a coreference system running under spaCy to extract coreference chains (or clusters) from text.\n",
    "To run the notebook, you first have to intall coreferee. See instructions here: https://spacy.io/universe/project/coreferee, but mostly what you need to do is, from a command prompt:\n",
    "\n",
    "`$ python -m pip install coreferee`\n",
    "\n",
    "`$ python -m coreferee install en`\n",
    "    \n",
    "You'll also need to download the spaCy large language model and the transformer model for English. It turns out, spacy has just released new versions and coreferee is not yet compatible with them, so you need to download specific versions of each model:\n",
    "\n",
    "`$ python -m pip install https://github.com/explosion/spacy-models/releases/download/en_core_web_lg-3.4.0/en_core_web_lg-3.4.0.tar.gz`\n",
    "\n",
    "`$ python -m pip install https://github.com/explosion/spacy-models/releases/download/en_core_web_trf-3.4.0/en_core_web_trf-3.4.0.tar.gz`\n",
    "\n",
    "You can also run install these things by running the next two cells instead. You'll only need to do this once."
   ]
  },
  {
   "cell_type": "markdown",
   "id": "fbf80d38",
   "metadata": {},
   "source": [
    "## Part 1: Installation\n",
    "\n",
    "You only need to do this **once**, no matter how many times you modify this notebook. Or you can do it from the command prompt, with the commands above. There is no harm in doing in more than once; it just takes a very long time. \n",
    "\n",
    "The first cell installs coreferee and the English model for it (coreferee works for other languages too). The second cell installs the right versions of the English models for spaCy. You need these specific versions because newer versions of the English models don't work with coreferee. "
   ]
  },
  {
   "cell_type": "code",
   "execution_count": 13,
   "id": "306ade0a",
   "metadata": {},
   "outputs": [
    {
     "name": "stdout",
     "output_type": "stream",
     "text": [
      "huggingface/tokenizers: The current process just got forked, after parallelism has already been used. Disabling parallelism to avoid deadlocks...\n",
      "To disable this warning, you can either:\n",
      "\t- Avoid using `tokenizers` before the fork if possible\n",
      "\t- Explicitly set the environment variable TOKENIZERS_PARALLELISM=(true | false)\n",
      "Requirement already satisfied: coreferee in /Users/eunicewtk/anaconda3/lib/python3.11/site-packages (1.4.1)\n",
      "Collecting spacy<3.6.0,>=3.0.0 (from coreferee)\n",
      "  Using cached spacy-3.5.4-cp311-cp311-macosx_11_0_arm64.whl.metadata (25 kB)\n",
      "Requirement already satisfied: spacy-legacy<3.1.0,>=3.0.11 in /Users/eunicewtk/anaconda3/lib/python3.11/site-packages (from spacy<3.6.0,>=3.0.0->coreferee) (3.0.12)\n",
      "Requirement already satisfied: spacy-loggers<2.0.0,>=1.0.0 in /Users/eunicewtk/anaconda3/lib/python3.11/site-packages (from spacy<3.6.0,>=3.0.0->coreferee) (1.0.5)\n",
      "Requirement already satisfied: murmurhash<1.1.0,>=0.28.0 in /Users/eunicewtk/anaconda3/lib/python3.11/site-packages (from spacy<3.6.0,>=3.0.0->coreferee) (1.0.10)\n",
      "Requirement already satisfied: cymem<2.1.0,>=2.0.2 in /Users/eunicewtk/anaconda3/lib/python3.11/site-packages (from spacy<3.6.0,>=3.0.0->coreferee) (2.0.8)\n",
      "Requirement already satisfied: preshed<3.1.0,>=3.0.2 in /Users/eunicewtk/anaconda3/lib/python3.11/site-packages (from spacy<3.6.0,>=3.0.0->coreferee) (3.0.9)\n",
      "Collecting thinc<8.2.0,>=8.1.8 (from spacy<3.6.0,>=3.0.0->coreferee)\n",
      "  Using cached thinc-8.1.12-cp311-cp311-macosx_11_0_arm64.whl.metadata (15 kB)\n",
      "Requirement already satisfied: wasabi<1.2.0,>=0.9.1 in /Users/eunicewtk/anaconda3/lib/python3.11/site-packages (from spacy<3.6.0,>=3.0.0->coreferee) (0.10.1)\n",
      "Requirement already satisfied: srsly<3.0.0,>=2.4.3 in /Users/eunicewtk/anaconda3/lib/python3.11/site-packages (from spacy<3.6.0,>=3.0.0->coreferee) (2.4.8)\n",
      "Requirement already satisfied: catalogue<2.1.0,>=2.0.6 in /Users/eunicewtk/anaconda3/lib/python3.11/site-packages (from spacy<3.6.0,>=3.0.0->coreferee) (2.0.10)\n",
      "Requirement already satisfied: typer<0.10.0,>=0.3.0 in /Users/eunicewtk/anaconda3/lib/python3.11/site-packages (from spacy<3.6.0,>=3.0.0->coreferee) (0.7.0)\n",
      "Requirement already satisfied: pathy>=0.10.0 in /Users/eunicewtk/anaconda3/lib/python3.11/site-packages (from spacy<3.6.0,>=3.0.0->coreferee) (0.11.0)\n",
      "Requirement already satisfied: smart-open<7.0.0,>=5.2.1 in /Users/eunicewtk/anaconda3/lib/python3.11/site-packages (from spacy<3.6.0,>=3.0.0->coreferee) (5.2.1)\n",
      "Requirement already satisfied: tqdm<5.0.0,>=4.38.0 in /Users/eunicewtk/anaconda3/lib/python3.11/site-packages (from spacy<3.6.0,>=3.0.0->coreferee) (4.65.0)\n",
      "Requirement already satisfied: numpy>=1.15.0 in /Users/eunicewtk/anaconda3/lib/python3.11/site-packages (from spacy<3.6.0,>=3.0.0->coreferee) (1.24.3)\n",
      "Requirement already satisfied: requests<3.0.0,>=2.13.0 in /Users/eunicewtk/anaconda3/lib/python3.11/site-packages (from spacy<3.6.0,>=3.0.0->coreferee) (2.31.0)\n",
      "Requirement already satisfied: pydantic!=1.8,!=1.8.1,<1.11.0,>=1.7.4 in /Users/eunicewtk/anaconda3/lib/python3.11/site-packages (from spacy<3.6.0,>=3.0.0->coreferee) (1.10.8)\n",
      "Requirement already satisfied: jinja2 in /Users/eunicewtk/anaconda3/lib/python3.11/site-packages (from spacy<3.6.0,>=3.0.0->coreferee) (3.1.2)\n",
      "Requirement already satisfied: setuptools in /Users/eunicewtk/anaconda3/lib/python3.11/site-packages (from spacy<3.6.0,>=3.0.0->coreferee) (69.1.1)\n",
      "Requirement already satisfied: packaging>=20.0 in /Users/eunicewtk/anaconda3/lib/python3.11/site-packages (from spacy<3.6.0,>=3.0.0->coreferee) (23.1)\n",
      "Requirement already satisfied: langcodes<4.0.0,>=3.2.0 in /Users/eunicewtk/anaconda3/lib/python3.11/site-packages (from spacy<3.6.0,>=3.0.0->coreferee) (3.3.0)\n",
      "Requirement already satisfied: pathlib-abc==0.1.1 in /Users/eunicewtk/anaconda3/lib/python3.11/site-packages (from pathy>=0.10.0->spacy<3.6.0,>=3.0.0->coreferee) (0.1.1)\n",
      "Requirement already satisfied: typing-extensions>=4.2.0 in /Users/eunicewtk/anaconda3/lib/python3.11/site-packages (from pydantic!=1.8,!=1.8.1,<1.11.0,>=1.7.4->spacy<3.6.0,>=3.0.0->coreferee) (4.10.0)\n",
      "Requirement already satisfied: charset-normalizer<4,>=2 in /Users/eunicewtk/anaconda3/lib/python3.11/site-packages (from requests<3.0.0,>=2.13.0->spacy<3.6.0,>=3.0.0->coreferee) (2.0.4)\n",
      "Requirement already satisfied: idna<4,>=2.5 in /Users/eunicewtk/anaconda3/lib/python3.11/site-packages (from requests<3.0.0,>=2.13.0->spacy<3.6.0,>=3.0.0->coreferee) (3.4)\n",
      "Requirement already satisfied: urllib3<3,>=1.21.1 in /Users/eunicewtk/anaconda3/lib/python3.11/site-packages (from requests<3.0.0,>=2.13.0->spacy<3.6.0,>=3.0.0->coreferee) (1.26.16)\n",
      "Requirement already satisfied: certifi>=2017.4.17 in /Users/eunicewtk/anaconda3/lib/python3.11/site-packages (from requests<3.0.0,>=2.13.0->spacy<3.6.0,>=3.0.0->coreferee) (2024.2.2)\n",
      "Requirement already satisfied: blis<0.8.0,>=0.7.8 in /Users/eunicewtk/anaconda3/lib/python3.11/site-packages (from thinc<8.2.0,>=8.1.8->spacy<3.6.0,>=3.0.0->coreferee) (0.7.11)\n",
      "Requirement already satisfied: confection<1.0.0,>=0.0.1 in /Users/eunicewtk/anaconda3/lib/python3.11/site-packages (from thinc<8.2.0,>=8.1.8->spacy<3.6.0,>=3.0.0->coreferee) (0.1.4)\n",
      "Requirement already satisfied: click<9.0.0,>=7.1.1 in /Users/eunicewtk/anaconda3/lib/python3.11/site-packages (from typer<0.10.0,>=0.3.0->spacy<3.6.0,>=3.0.0->coreferee) (8.0.4)\n",
      "Requirement already satisfied: MarkupSafe>=2.0 in /Users/eunicewtk/anaconda3/lib/python3.11/site-packages (from jinja2->spacy<3.6.0,>=3.0.0->coreferee) (2.1.1)\n",
      "Using cached spacy-3.5.4-cp311-cp311-macosx_11_0_arm64.whl (6.5 MB)\n",
      "Using cached thinc-8.1.12-cp311-cp311-macosx_11_0_arm64.whl (776 kB)\n",
      "Installing collected packages: thinc, spacy\n",
      "  Attempting uninstall: thinc\n",
      "    Found existing installation: thinc 8.2.3\n",
      "    Uninstalling thinc-8.2.3:\n",
      "      Successfully uninstalled thinc-8.2.3\n",
      "  Attempting uninstall: spacy\n",
      "    Found existing installation: spacy 3.7.4\n",
      "    Uninstalling spacy-3.7.4:\n",
      "      Successfully uninstalled spacy-3.7.4\n",
      "\u001b[31mERROR: pip's dependency resolver does not currently take into account all the packages that are installed. This behaviour is the source of the following dependency conflicts.\n",
      "sayswho 0.1.4 requires spacy<4.0.0,>=3.6.0, but you have spacy 3.5.4 which is incompatible.\n",
      "en-core-web-sm 3.7.1 requires spacy<3.8.0,>=3.7.2, but you have spacy 3.5.4 which is incompatible.\n",
      "en-core-web-trf 3.4.0 requires spacy<3.5.0,>=3.4.0, but you have spacy 3.5.4 which is incompatible.\n",
      "en-core-web-lg 3.4.0 requires spacy<3.5.0,>=3.4.0, but you have spacy 3.5.4 which is incompatible.\u001b[0m\u001b[31m\n",
      "\u001b[0mSuccessfully installed spacy-3.5.4 thinc-8.1.12\n",
      "huggingface/tokenizers: The current process just got forked, after parallelism has already been used. Disabling parallelism to avoid deadlocks...\n",
      "To disable this warning, you can either:\n",
      "\t- Avoid using `tokenizers` before the fork if possible\n",
      "\t- Explicitly set the environment variable TOKENIZERS_PARALLELISM=(true | false)\n",
      "Collecting https://github.com/richardpaulhudson/coreferee/raw/master/models/coreferee_model_en.zip\n",
      "  Using cached https://github.com/richardpaulhudson/coreferee/raw/master/models/coreferee_model_en.zip (65.4 MB)\n",
      "  Installing build dependencies ... \u001b[?25ldone\n",
      "\u001b[?25h  Getting requirements to build wheel ... \u001b[?25ldone\n",
      "\u001b[?25h  Preparing metadata (pyproject.toml) ... \u001b[?25ldone\n",
      "\u001b[?25h"
     ]
    }
   ],
   "source": [
    "!python -m pip install coreferee\n",
    "!python -m coreferee install en"
   ]
  },
  {
   "cell_type": "code",
   "execution_count": 14,
   "id": "c529c675",
   "metadata": {},
   "outputs": [
    {
     "name": "stdout",
     "output_type": "stream",
     "text": [
      "huggingface/tokenizers: The current process just got forked, after parallelism has already been used. Disabling parallelism to avoid deadlocks...\n",
      "To disable this warning, you can either:\n",
      "\t- Avoid using `tokenizers` before the fork if possible\n",
      "\t- Explicitly set the environment variable TOKENIZERS_PARALLELISM=(true | false)\n",
      "Collecting https://github.com/explosion/spacy-models/releases/download/en_core_web_lg-3.4.0/en_core_web_lg-3.4.0.tar.gz\n",
      "  Downloading https://github.com/explosion/spacy-models/releases/download/en_core_web_lg-3.4.0/en_core_web_lg-3.4.0.tar.gz (587.7 MB)\n",
      "\u001b[2K     \u001b[90m━━━━━━━━━━━━━━━━━━━━━━━━━━━━━━━━━━━━━━━\u001b[0m \u001b[32m587.7/587.7 MB\u001b[0m \u001b[31m4.7 MB/s\u001b[0m eta \u001b[36m0:00:00\u001b[0m00:01\u001b[0m00:01\u001b[0m\n",
      "\u001b[?25h  Preparing metadata (setup.py) ... \u001b[?25ldone\n",
      "\u001b[?25hCollecting spacy<3.5.0,>=3.4.0 (from en_core_web_lg==3.4.0)\n",
      "  Using cached spacy-3.4.4-cp311-cp311-macosx_11_0_arm64.whl.metadata (24 kB)\n",
      "Requirement already satisfied: spacy-legacy<3.1.0,>=3.0.10 in /Users/eunicewtk/anaconda3/lib/python3.11/site-packages (from spacy<3.5.0,>=3.4.0->en_core_web_lg==3.4.0) (3.0.12)\n",
      "Requirement already satisfied: spacy-loggers<2.0.0,>=1.0.0 in /Users/eunicewtk/anaconda3/lib/python3.11/site-packages (from spacy<3.5.0,>=3.4.0->en_core_web_lg==3.4.0) (1.0.5)\n",
      "Requirement already satisfied: murmurhash<1.1.0,>=0.28.0 in /Users/eunicewtk/anaconda3/lib/python3.11/site-packages (from spacy<3.5.0,>=3.4.0->en_core_web_lg==3.4.0) (1.0.10)\n",
      "Requirement already satisfied: cymem<2.1.0,>=2.0.2 in /Users/eunicewtk/anaconda3/lib/python3.11/site-packages (from spacy<3.5.0,>=3.4.0->en_core_web_lg==3.4.0) (2.0.8)\n",
      "Requirement already satisfied: preshed<3.1.0,>=3.0.2 in /Users/eunicewtk/anaconda3/lib/python3.11/site-packages (from spacy<3.5.0,>=3.4.0->en_core_web_lg==3.4.0) (3.0.9)\n",
      "Requirement already satisfied: thinc<8.2.0,>=8.1.0 in /Users/eunicewtk/anaconda3/lib/python3.11/site-packages (from spacy<3.5.0,>=3.4.0->en_core_web_lg==3.4.0) (8.1.12)\n",
      "Requirement already satisfied: wasabi<1.1.0,>=0.9.1 in /Users/eunicewtk/anaconda3/lib/python3.11/site-packages (from spacy<3.5.0,>=3.4.0->en_core_web_lg==3.4.0) (0.10.1)\n",
      "Requirement already satisfied: srsly<3.0.0,>=2.4.3 in /Users/eunicewtk/anaconda3/lib/python3.11/site-packages (from spacy<3.5.0,>=3.4.0->en_core_web_lg==3.4.0) (2.4.8)\n",
      "Requirement already satisfied: catalogue<2.1.0,>=2.0.6 in /Users/eunicewtk/anaconda3/lib/python3.11/site-packages (from spacy<3.5.0,>=3.4.0->en_core_web_lg==3.4.0) (2.0.10)\n",
      "Requirement already satisfied: typer<0.8.0,>=0.3.0 in /Users/eunicewtk/anaconda3/lib/python3.11/site-packages (from spacy<3.5.0,>=3.4.0->en_core_web_lg==3.4.0) (0.7.0)\n",
      "Requirement already satisfied: pathy>=0.3.5 in /Users/eunicewtk/anaconda3/lib/python3.11/site-packages (from spacy<3.5.0,>=3.4.0->en_core_web_lg==3.4.0) (0.11.0)\n",
      "Requirement already satisfied: smart-open<7.0.0,>=5.2.1 in /Users/eunicewtk/anaconda3/lib/python3.11/site-packages (from spacy<3.5.0,>=3.4.0->en_core_web_lg==3.4.0) (5.2.1)\n",
      "Requirement already satisfied: tqdm<5.0.0,>=4.38.0 in /Users/eunicewtk/anaconda3/lib/python3.11/site-packages (from spacy<3.5.0,>=3.4.0->en_core_web_lg==3.4.0) (4.65.0)\n",
      "Requirement already satisfied: numpy>=1.15.0 in /Users/eunicewtk/anaconda3/lib/python3.11/site-packages (from spacy<3.5.0,>=3.4.0->en_core_web_lg==3.4.0) (1.24.3)\n",
      "Requirement already satisfied: requests<3.0.0,>=2.13.0 in /Users/eunicewtk/anaconda3/lib/python3.11/site-packages (from spacy<3.5.0,>=3.4.0->en_core_web_lg==3.4.0) (2.31.0)\n",
      "Requirement already satisfied: pydantic!=1.8,!=1.8.1,<1.11.0,>=1.7.4 in /Users/eunicewtk/anaconda3/lib/python3.11/site-packages (from spacy<3.5.0,>=3.4.0->en_core_web_lg==3.4.0) (1.10.8)\n",
      "Requirement already satisfied: jinja2 in /Users/eunicewtk/anaconda3/lib/python3.11/site-packages (from spacy<3.5.0,>=3.4.0->en_core_web_lg==3.4.0) (3.1.2)\n",
      "Requirement already satisfied: setuptools in /Users/eunicewtk/anaconda3/lib/python3.11/site-packages (from spacy<3.5.0,>=3.4.0->en_core_web_lg==3.4.0) (69.1.1)\n",
      "Requirement already satisfied: packaging>=20.0 in /Users/eunicewtk/anaconda3/lib/python3.11/site-packages (from spacy<3.5.0,>=3.4.0->en_core_web_lg==3.4.0) (23.1)\n",
      "Requirement already satisfied: langcodes<4.0.0,>=3.2.0 in /Users/eunicewtk/anaconda3/lib/python3.11/site-packages (from spacy<3.5.0,>=3.4.0->en_core_web_lg==3.4.0) (3.3.0)\n",
      "Requirement already satisfied: pathlib-abc==0.1.1 in /Users/eunicewtk/anaconda3/lib/python3.11/site-packages (from pathy>=0.3.5->spacy<3.5.0,>=3.4.0->en_core_web_lg==3.4.0) (0.1.1)\n",
      "Requirement already satisfied: typing-extensions>=4.2.0 in /Users/eunicewtk/anaconda3/lib/python3.11/site-packages (from pydantic!=1.8,!=1.8.1,<1.11.0,>=1.7.4->spacy<3.5.0,>=3.4.0->en_core_web_lg==3.4.0) (4.10.0)\n",
      "Requirement already satisfied: charset-normalizer<4,>=2 in /Users/eunicewtk/anaconda3/lib/python3.11/site-packages (from requests<3.0.0,>=2.13.0->spacy<3.5.0,>=3.4.0->en_core_web_lg==3.4.0) (2.0.4)\n",
      "Requirement already satisfied: idna<4,>=2.5 in /Users/eunicewtk/anaconda3/lib/python3.11/site-packages (from requests<3.0.0,>=2.13.0->spacy<3.5.0,>=3.4.0->en_core_web_lg==3.4.0) (3.4)\n",
      "Requirement already satisfied: urllib3<3,>=1.21.1 in /Users/eunicewtk/anaconda3/lib/python3.11/site-packages (from requests<3.0.0,>=2.13.0->spacy<3.5.0,>=3.4.0->en_core_web_lg==3.4.0) (1.26.16)\n",
      "Requirement already satisfied: certifi>=2017.4.17 in /Users/eunicewtk/anaconda3/lib/python3.11/site-packages (from requests<3.0.0,>=2.13.0->spacy<3.5.0,>=3.4.0->en_core_web_lg==3.4.0) (2024.2.2)\n",
      "Requirement already satisfied: blis<0.8.0,>=0.7.8 in /Users/eunicewtk/anaconda3/lib/python3.11/site-packages (from thinc<8.2.0,>=8.1.0->spacy<3.5.0,>=3.4.0->en_core_web_lg==3.4.0) (0.7.11)\n",
      "Requirement already satisfied: confection<1.0.0,>=0.0.1 in /Users/eunicewtk/anaconda3/lib/python3.11/site-packages (from thinc<8.2.0,>=8.1.0->spacy<3.5.0,>=3.4.0->en_core_web_lg==3.4.0) (0.1.4)\n",
      "Requirement already satisfied: click<9.0.0,>=7.1.1 in /Users/eunicewtk/anaconda3/lib/python3.11/site-packages (from typer<0.8.0,>=0.3.0->spacy<3.5.0,>=3.4.0->en_core_web_lg==3.4.0) (8.0.4)\n",
      "Requirement already satisfied: MarkupSafe>=2.0 in /Users/eunicewtk/anaconda3/lib/python3.11/site-packages (from jinja2->spacy<3.5.0,>=3.4.0->en_core_web_lg==3.4.0) (2.1.1)\n",
      "Using cached spacy-3.4.4-cp311-cp311-macosx_11_0_arm64.whl (6.4 MB)\n",
      "Installing collected packages: spacy\n",
      "  Attempting uninstall: spacy\n",
      "    Found existing installation: spacy 3.5.4\n",
      "    Uninstalling spacy-3.5.4:\n",
      "      Successfully uninstalled spacy-3.5.4\n",
      "\u001b[31mERROR: pip's dependency resolver does not currently take into account all the packages that are installed. This behaviour is the source of the following dependency conflicts.\n",
      "sayswho 0.1.4 requires spacy<4.0.0,>=3.6.0, but you have spacy 3.4.4 which is incompatible.\n",
      "en-core-web-sm 3.7.1 requires spacy<3.8.0,>=3.7.2, but you have spacy 3.4.4 which is incompatible.\u001b[0m\u001b[31m\n",
      "\u001b[0mSuccessfully installed spacy-3.4.4\n",
      "huggingface/tokenizers: The current process just got forked, after parallelism has already been used. Disabling parallelism to avoid deadlocks...\n",
      "To disable this warning, you can either:\n",
      "\t- Avoid using `tokenizers` before the fork if possible\n",
      "\t- Explicitly set the environment variable TOKENIZERS_PARALLELISM=(true | false)\n",
      "Collecting https://github.com/explosion/spacy-models/releases/download/en_core_web_trf-3.4.0/en_core_web_trf-3.4.0.tar.gz\n",
      "  Downloading https://github.com/explosion/spacy-models/releases/download/en_core_web_trf-3.4.0/en_core_web_trf-3.4.0.tar.gz (460.3 MB)\n",
      "\u001b[2K     \u001b[90m━━━━━━━━━━━━━━━━━━━━━━━━━━━━━━━━━━━━━━━\u001b[0m \u001b[32m460.3/460.3 MB\u001b[0m \u001b[31m5.9 MB/s\u001b[0m eta \u001b[36m0:00:00\u001b[0m00:01\u001b[0m00:01\u001b[0m\n",
      "\u001b[?25h  Preparing metadata (setup.py) ... \u001b[?25ldone\n",
      "\u001b[?25hRequirement already satisfied: spacy<3.5.0,>=3.4.0 in /Users/eunicewtk/anaconda3/lib/python3.11/site-packages (from en_core_web_trf==3.4.0) (3.4.4)\n",
      "Requirement already satisfied: spacy-transformers<1.2.0,>=1.1.2 in /Users/eunicewtk/anaconda3/lib/python3.11/site-packages (from en_core_web_trf==3.4.0) (1.1.9)\n",
      "Requirement already satisfied: spacy-legacy<3.1.0,>=3.0.10 in /Users/eunicewtk/anaconda3/lib/python3.11/site-packages (from spacy<3.5.0,>=3.4.0->en_core_web_trf==3.4.0) (3.0.12)\n",
      "Requirement already satisfied: spacy-loggers<2.0.0,>=1.0.0 in /Users/eunicewtk/anaconda3/lib/python3.11/site-packages (from spacy<3.5.0,>=3.4.0->en_core_web_trf==3.4.0) (1.0.5)\n",
      "Requirement already satisfied: murmurhash<1.1.0,>=0.28.0 in /Users/eunicewtk/anaconda3/lib/python3.11/site-packages (from spacy<3.5.0,>=3.4.0->en_core_web_trf==3.4.0) (1.0.10)\n",
      "Requirement already satisfied: cymem<2.1.0,>=2.0.2 in /Users/eunicewtk/anaconda3/lib/python3.11/site-packages (from spacy<3.5.0,>=3.4.0->en_core_web_trf==3.4.0) (2.0.8)\n",
      "Requirement already satisfied: preshed<3.1.0,>=3.0.2 in /Users/eunicewtk/anaconda3/lib/python3.11/site-packages (from spacy<3.5.0,>=3.4.0->en_core_web_trf==3.4.0) (3.0.9)\n"
     ]
    },
    {
     "name": "stdout",
     "output_type": "stream",
     "text": [
      "Requirement already satisfied: thinc<8.2.0,>=8.1.0 in /Users/eunicewtk/anaconda3/lib/python3.11/site-packages (from spacy<3.5.0,>=3.4.0->en_core_web_trf==3.4.0) (8.1.12)\n",
      "Requirement already satisfied: wasabi<1.1.0,>=0.9.1 in /Users/eunicewtk/anaconda3/lib/python3.11/site-packages (from spacy<3.5.0,>=3.4.0->en_core_web_trf==3.4.0) (0.10.1)\n",
      "Requirement already satisfied: srsly<3.0.0,>=2.4.3 in /Users/eunicewtk/anaconda3/lib/python3.11/site-packages (from spacy<3.5.0,>=3.4.0->en_core_web_trf==3.4.0) (2.4.8)\n",
      "Requirement already satisfied: catalogue<2.1.0,>=2.0.6 in /Users/eunicewtk/anaconda3/lib/python3.11/site-packages (from spacy<3.5.0,>=3.4.0->en_core_web_trf==3.4.0) (2.0.10)\n",
      "Requirement already satisfied: typer<0.8.0,>=0.3.0 in /Users/eunicewtk/anaconda3/lib/python3.11/site-packages (from spacy<3.5.0,>=3.4.0->en_core_web_trf==3.4.0) (0.7.0)\n",
      "Requirement already satisfied: pathy>=0.3.5 in /Users/eunicewtk/anaconda3/lib/python3.11/site-packages (from spacy<3.5.0,>=3.4.0->en_core_web_trf==3.4.0) (0.11.0)\n",
      "Requirement already satisfied: smart-open<7.0.0,>=5.2.1 in /Users/eunicewtk/anaconda3/lib/python3.11/site-packages (from spacy<3.5.0,>=3.4.0->en_core_web_trf==3.4.0) (5.2.1)\n",
      "Requirement already satisfied: tqdm<5.0.0,>=4.38.0 in /Users/eunicewtk/anaconda3/lib/python3.11/site-packages (from spacy<3.5.0,>=3.4.0->en_core_web_trf==3.4.0) (4.65.0)\n",
      "Requirement already satisfied: numpy>=1.15.0 in /Users/eunicewtk/anaconda3/lib/python3.11/site-packages (from spacy<3.5.0,>=3.4.0->en_core_web_trf==3.4.0) (1.24.3)\n",
      "Requirement already satisfied: requests<3.0.0,>=2.13.0 in /Users/eunicewtk/anaconda3/lib/python3.11/site-packages (from spacy<3.5.0,>=3.4.0->en_core_web_trf==3.4.0) (2.31.0)\n",
      "Requirement already satisfied: pydantic!=1.8,!=1.8.1,<1.11.0,>=1.7.4 in /Users/eunicewtk/anaconda3/lib/python3.11/site-packages (from spacy<3.5.0,>=3.4.0->en_core_web_trf==3.4.0) (1.10.8)\n",
      "Requirement already satisfied: jinja2 in /Users/eunicewtk/anaconda3/lib/python3.11/site-packages (from spacy<3.5.0,>=3.4.0->en_core_web_trf==3.4.0) (3.1.2)\n",
      "Requirement already satisfied: setuptools in /Users/eunicewtk/anaconda3/lib/python3.11/site-packages (from spacy<3.5.0,>=3.4.0->en_core_web_trf==3.4.0) (69.1.1)\n",
      "Requirement already satisfied: packaging>=20.0 in /Users/eunicewtk/anaconda3/lib/python3.11/site-packages (from spacy<3.5.0,>=3.4.0->en_core_web_trf==3.4.0) (23.1)\n",
      "Requirement already satisfied: langcodes<4.0.0,>=3.2.0 in /Users/eunicewtk/anaconda3/lib/python3.11/site-packages (from spacy<3.5.0,>=3.4.0->en_core_web_trf==3.4.0) (3.3.0)\n",
      "Requirement already satisfied: transformers<4.26.0,>=3.4.0 in /Users/eunicewtk/anaconda3/lib/python3.11/site-packages (from spacy-transformers<1.2.0,>=1.1.2->en_core_web_trf==3.4.0) (4.25.1)\n",
      "Requirement already satisfied: torch>=1.6.0 in /Users/eunicewtk/anaconda3/lib/python3.11/site-packages (from spacy-transformers<1.2.0,>=1.1.2->en_core_web_trf==3.4.0) (2.2.1)\n",
      "Requirement already satisfied: spacy-alignments<1.0.0,>=0.7.2 in /Users/eunicewtk/anaconda3/lib/python3.11/site-packages (from spacy-transformers<1.2.0,>=1.1.2->en_core_web_trf==3.4.0) (0.9.1)\n",
      "Requirement already satisfied: pathlib-abc==0.1.1 in /Users/eunicewtk/anaconda3/lib/python3.11/site-packages (from pathy>=0.3.5->spacy<3.5.0,>=3.4.0->en_core_web_trf==3.4.0) (0.1.1)\n",
      "Requirement already satisfied: typing-extensions>=4.2.0 in /Users/eunicewtk/anaconda3/lib/python3.11/site-packages (from pydantic!=1.8,!=1.8.1,<1.11.0,>=1.7.4->spacy<3.5.0,>=3.4.0->en_core_web_trf==3.4.0) (4.10.0)\n",
      "Requirement already satisfied: charset-normalizer<4,>=2 in /Users/eunicewtk/anaconda3/lib/python3.11/site-packages (from requests<3.0.0,>=2.13.0->spacy<3.5.0,>=3.4.0->en_core_web_trf==3.4.0) (2.0.4)\n",
      "Requirement already satisfied: idna<4,>=2.5 in /Users/eunicewtk/anaconda3/lib/python3.11/site-packages (from requests<3.0.0,>=2.13.0->spacy<3.5.0,>=3.4.0->en_core_web_trf==3.4.0) (3.4)\n",
      "Requirement already satisfied: urllib3<3,>=1.21.1 in /Users/eunicewtk/anaconda3/lib/python3.11/site-packages (from requests<3.0.0,>=2.13.0->spacy<3.5.0,>=3.4.0->en_core_web_trf==3.4.0) (1.26.16)\n",
      "Requirement already satisfied: certifi>=2017.4.17 in /Users/eunicewtk/anaconda3/lib/python3.11/site-packages (from requests<3.0.0,>=2.13.0->spacy<3.5.0,>=3.4.0->en_core_web_trf==3.4.0) (2024.2.2)\n",
      "Requirement already satisfied: blis<0.8.0,>=0.7.8 in /Users/eunicewtk/anaconda3/lib/python3.11/site-packages (from thinc<8.2.0,>=8.1.0->spacy<3.5.0,>=3.4.0->en_core_web_trf==3.4.0) (0.7.11)\n",
      "Requirement already satisfied: confection<1.0.0,>=0.0.1 in /Users/eunicewtk/anaconda3/lib/python3.11/site-packages (from thinc<8.2.0,>=8.1.0->spacy<3.5.0,>=3.4.0->en_core_web_trf==3.4.0) (0.1.4)\n",
      "Requirement already satisfied: filelock in /Users/eunicewtk/anaconda3/lib/python3.11/site-packages (from torch>=1.6.0->spacy-transformers<1.2.0,>=1.1.2->en_core_web_trf==3.4.0) (3.9.0)\n",
      "Requirement already satisfied: sympy in /Users/eunicewtk/anaconda3/lib/python3.11/site-packages (from torch>=1.6.0->spacy-transformers<1.2.0,>=1.1.2->en_core_web_trf==3.4.0) (1.11.1)\n",
      "Requirement already satisfied: networkx in /Users/eunicewtk/anaconda3/lib/python3.11/site-packages (from torch>=1.6.0->spacy-transformers<1.2.0,>=1.1.2->en_core_web_trf==3.4.0) (3.1)\n",
      "Requirement already satisfied: fsspec in /Users/eunicewtk/anaconda3/lib/python3.11/site-packages (from torch>=1.6.0->spacy-transformers<1.2.0,>=1.1.2->en_core_web_trf==3.4.0) (2023.4.0)\n",
      "Requirement already satisfied: huggingface-hub<1.0,>=0.10.0 in /Users/eunicewtk/anaconda3/lib/python3.11/site-packages (from transformers<4.26.0,>=3.4.0->spacy-transformers<1.2.0,>=1.1.2->en_core_web_trf==3.4.0) (0.15.1)\n",
      "Requirement already satisfied: pyyaml>=5.1 in /Users/eunicewtk/anaconda3/lib/python3.11/site-packages (from transformers<4.26.0,>=3.4.0->spacy-transformers<1.2.0,>=1.1.2->en_core_web_trf==3.4.0) (6.0)\n",
      "Requirement already satisfied: regex!=2019.12.17 in /Users/eunicewtk/anaconda3/lib/python3.11/site-packages (from transformers<4.26.0,>=3.4.0->spacy-transformers<1.2.0,>=1.1.2->en_core_web_trf==3.4.0) (2023.12.25)\n",
      "Requirement already satisfied: tokenizers!=0.11.3,<0.14,>=0.11.1 in /Users/eunicewtk/anaconda3/lib/python3.11/site-packages (from transformers<4.26.0,>=3.4.0->spacy-transformers<1.2.0,>=1.1.2->en_core_web_trf==3.4.0) (0.13.2)\n",
      "Requirement already satisfied: click<9.0.0,>=7.1.1 in /Users/eunicewtk/anaconda3/lib/python3.11/site-packages (from typer<0.8.0,>=0.3.0->spacy<3.5.0,>=3.4.0->en_core_web_trf==3.4.0) (8.0.4)\n",
      "Requirement already satisfied: MarkupSafe>=2.0 in /Users/eunicewtk/anaconda3/lib/python3.11/site-packages (from jinja2->spacy<3.5.0,>=3.4.0->en_core_web_trf==3.4.0) (2.1.1)\n",
      "Requirement already satisfied: mpmath>=0.19 in /Users/eunicewtk/anaconda3/lib/python3.11/site-packages (from sympy->torch>=1.6.0->spacy-transformers<1.2.0,>=1.1.2->en_core_web_trf==3.4.0) (1.3.0)\n"
     ]
    }
   ],
   "source": [
    "!python -m pip install https://github.com/explosion/spacy-models/releases/download/en_core_web_lg-3.4.0/en_core_web_lg-3.4.0.tar.gz\n",
    "!python -m pip install https://github.com/explosion/spacy-models/releases/download/en_core_web_trf-3.4.0/en_core_web_trf-3.4.0.tar.gz"
   ]
  },
  {
   "cell_type": "markdown",
   "id": "eb082865",
   "metadata": {},
   "source": [
    "## Part 2: Test coreferee"
   ]
  },
  {
   "cell_type": "code",
   "execution_count": 15,
   "id": "52503411",
   "metadata": {},
   "outputs": [
    {
     "name": "stderr",
     "output_type": "stream",
     "text": [
      "/Users/eunicewtk/anaconda3/lib/python3.11/site-packages/spacy/util.py:910: UserWarning: [W095] Model 'en_core_web_trf' (3.4.0) was trained with spaCy v3.4.0 and may not be 100% compatible with the current version (3.7.4). If you see errors or degraded performance, download a newer compatible model or retrain your custom model with the current spaCy version. For more details and available updates, run: python -m spacy validate\n",
      "  warnings.warn(warn_msg)\n"
     ]
    },
    {
     "data": {
      "text/plain": [
       "<coreferee.manager.CorefereeBroker at 0x381de5c90>"
      ]
     },
     "execution_count": 15,
     "metadata": {},
     "output_type": "execute_result"
    }
   ],
   "source": [
    "# import what we need, load the transformer model, \n",
    "# add coreferee to the spacy nlp pipeline\n",
    "\n",
    "import coreferee, spacy\n",
    "nlp = spacy.load('en_core_web_trf')\n",
    "nlp.add_pipe('coreferee')"
   ]
  },
  {
   "cell_type": "code",
   "execution_count": 16,
   "id": "fe6a1cc1",
   "metadata": {},
   "outputs": [],
   "source": [
    "# this is just a test, so that you can see what the coreference chains look like\n",
    "# you may get a CUDA warning here. As long as it's only a warning, things should run just fine\n",
    "\n",
    "doc = nlp('Although he was very busy with his work, Peter had had enough of it. He and his wife decided they needed a holiday. They travelled to Spain because they loved the country very much.')"
   ]
  },
  {
   "cell_type": "code",
   "execution_count": 17,
   "id": "21d05399",
   "metadata": {},
   "outputs": [
    {
     "name": "stdout",
     "output_type": "stream",
     "text": [
      "0: he(1), his(6), Peter(9), He(16), his(18)\n",
      "1: work(7), it(14)\n",
      "2: [He(16); wife(19)], they(21), They(26), they(31)\n",
      "3: Spain(29), country(34)\n"
     ]
    }
   ],
   "source": [
    "# now we print the coreference chains found\n",
    "\n",
    "doc._.coref_chains.print()"
   ]
  },
  {
   "cell_type": "markdown",
   "id": "41896a5f",
   "metadata": {},
   "source": [
    "A few things to note about the output:\n",
    "\n",
    "* We have 4 coreference chains, relating to: *Peter, work, wife(+Peter), Spain*\n",
    "* Coreferee is able to deal with cataphora, where the pronoun (*he*) appears before the referent (*Peter*)\n",
    "* Coreferee can deal with groups: *\\[he+wife\\], they*\n",
    "* The wife does not appear as an entity with a chain, because there is no referring expression to that entity. It only appears as part of *he and his wife*"
   ]
  },
  {
   "cell_type": "code",
   "execution_count": 18,
   "id": "01894460",
   "metadata": {},
   "outputs": [
    {
     "name": "stdout",
     "output_type": "stream",
     "text": [
      "[Peter, wife]\n"
     ]
    }
   ],
   "source": [
    "# once we have an index for a particular referring expression, \n",
    "# we can ask coreferee to resolve it. For instance, printing\n",
    "# the following expression gives us the referent for \n",
    "# the referring expression 31 (they)\n",
    "\n",
    "print(doc._.coref_chains.resolve(doc[31]))"
   ]
  },
  {
   "cell_type": "markdown",
   "id": "671191db",
   "metadata": {},
   "source": [
    "## Part 3: Run coreferee on local files"
   ]
  },
  {
   "cell_type": "code",
   "execution_count": null,
   "id": "b25df633",
   "metadata": {},
   "outputs": [],
   "source": []
  },
  {
   "cell_type": "code",
   "execution_count": 19,
   "id": "b91ccf04",
   "metadata": {},
   "outputs": [],
   "source": [
    "# do coreference chains for 5 documents in the data/ directory\n",
    "# below is a sample for the first text\n",
    "\n",
    "with open (\"A1_data/5c1dbe1d1e67d78e2797d611.txt\", \"r\", encoding='utf-8') as f:\n",
    "    text1 = f.read()"
   ]
  },
  {
   "cell_type": "code",
   "execution_count": 20,
   "id": "2e4c578b",
   "metadata": {},
   "outputs": [],
   "source": [
    "doc1 = nlp(text1)"
   ]
  },
  {
   "cell_type": "code",
   "execution_count": 21,
   "id": "5a6f17f5",
   "metadata": {},
   "outputs": [
    {
     "name": "stdout",
     "output_type": "stream",
     "text": [
      "0: couple(9), couple(76)\n",
      "1: years(16), their(19)\n",
      "2: letter(48), them(59), they(78)\n",
      "3: Ayo(72), Ayo(150)\n",
      "4: custody(87), it(96)\n",
      "5: News(112), News(136)\n",
      "6: fact(117), It(165)\n",
      "7: orphanage(161), orphanage(206)\n",
      "8: letter(171), letter(219)\n",
      "9: Kim(174), Kim(211)\n",
      "10: children(254), their(266)\n",
      "11: adoption(300), adoption(333)\n",
      "12: headlines(317), they(325)\n",
      "13: Kim(338), Kim(401), Kim(425), her(437), she(452)\n",
      "14: Nigeria(345), country(359)\n",
      "15: papers(372), them(376)\n",
      "16: Clark(395), Clark(432), He(444), him(478), him(486), him(496), he(501)\n",
      "17: [Kim(401); son(404)], their(403)\n",
      "18: Canada(474), They(484)\n",
      "19: Nigeria(489), They(494)\n",
      "20: Morans(561), Morans(602)\n",
      "21: family(578), family(636), they(658), their(660), they(684)\n",
      "22: government(589), it(598)\n",
      "23: Kim(633), she(652), she(695)\n",
      "24: agency(648), it(672)\n"
     ]
    }
   ],
   "source": [
    "doc1._.coref_chains.print()"
   ]
  },
  {
   "cell_type": "code",
   "execution_count": 22,
   "id": "4320b5f7",
   "metadata": {},
   "outputs": [
    {
     "name": "stdout",
     "output_type": "stream",
     "text": [
      "[Kim]\n"
     ]
    }
   ],
   "source": [
    "# example: who does she(452) refer to?\n",
    "\n",
    "print(doc1._.coref_chains.resolve(doc1[452]))"
   ]
  },
  {
   "cell_type": "code",
   "execution_count": 23,
   "id": "6cb5f124",
   "metadata": {},
   "outputs": [
    {
     "name": "stdout",
     "output_type": "stream",
     "text": [
      "Kim PERSON\n",
      "Clark Moran PERSON\n",
      "Ayo PERSON\n",
      "Kim PERSON\n",
      "Ayo PERSON\n",
      "Kim PERSON\n",
      "Clark PERSON\n",
      "Kim PERSON\n",
      "Ayo PERSON\n",
      "Morans PERSON\n",
      "Kim PERSON\n",
      "Ayo PERSON\n",
      "Clark PERSON\n",
      "Kim PERSON\n",
      "Kim PERSON\n",
      "Clark PERSON\n",
      "Ayo PERSON\n",
      "Kim PERSON\n",
      "Morans PERSON\n",
      "Ayo PERSON\n",
      "Kim PERSON\n",
      "Ben Miljure PERSON\n"
     ]
    }
   ],
   "source": [
    "# print referring expressions that are people\n",
    "# we are interested in those because they are the sources of quotes\n",
    "for ent in doc1.ents:\n",
    "    if ent.label_ in [\"PERSON\"]:\n",
    "        print(ent.text, ent.label_)"
   ]
  },
  {
   "cell_type": "code",
   "execution_count": 34,
   "id": "ce0fb061",
   "metadata": {},
   "outputs": [],
   "source": [
    "with open (\"A1_data/5c1de1661e67d78e27984d34.txt\", \"r\", encoding='utf-8') as f:\n",
    "    text2 = f.read()"
   ]
  },
  {
   "cell_type": "code",
   "execution_count": 35,
   "id": "a034779f",
   "metadata": {},
   "outputs": [],
   "source": [
    "doc2 = nlp(text2)"
   ]
  },
  {
   "cell_type": "code",
   "execution_count": 36,
   "id": "6f6c4826",
   "metadata": {},
   "outputs": [
    {
     "name": "stdout",
     "output_type": "stream",
     "text": [
      "0: Scheer(5), Scheer(24)\n",
      "1: Trudeau(10), Trudeau(29)\n",
      "2: Canada(21), Canada(48)\n",
      "3: [Trudeau(29); party(33)], them(40)\n",
      "4: Trudeau(76), his(87), His(107), Trudeau(113)\n",
      "5: Scheer(104), Scheer(119)\n",
      "6: [Scheer(119); Conservatives(122)], themselves(128)\n",
      "7: accusations(157), they(163)\n",
      "8: Convoy(187), his(236)\n",
      "9: pipelines(193), their(197), they(204)\n",
      "10: Scheer(242), he(244), his(259), Scheer(289)\n",
      "11: Twitter(284), it(291)\n",
      "12: reaction(294), it(303)\n",
      "13: defence(352), it(358)\n",
      "14: Chicken(365), he(401), he(406)\n",
      "15: language(388), it(391), it(425)\n",
      "16: WelcomeToCanada(440), Canada(525)\n",
      "17: U.S.(450), country(467)\n",
      "18: Trudeau(452), Trudeau(458), Trudeau(483), he(487)\n",
      "19: Scheer(462), Scheer(533), he(535), his(537), Scheer(570), he(659)\n",
      "20: [he(535); party(538)], they(545)\n",
      "21: system(633), it(643)\n",
      "22: Canada(653), It(666)\n",
      "23: Conservatives(675), Conservatives(728), Conservatives(765)\n",
      "24: spokeswoman(686), he(690)\n",
      "25: Trudeau(788), Trudeau(824), Trudeau(826)\n",
      "26: Conservatives(829), they(836)\n",
      "27: sovereignty(843), its(848)\n",
      "28: Trudeau(879), Trudeau(926), he(960)\n",
      "29: compact(889), compact(935)\n",
      "30: Scheer(923), Scheer(1010)\n",
      "31: hand(938), it(947)\n",
      "32: they(952), [Conservatives(966); thousands(970)]\n",
      "33: People(981), their(996)\n",
      "34: That(1014), It(1026)\n"
     ]
    }
   ],
   "source": [
    "doc2._.coref_chains.print()"
   ]
  },
  {
   "cell_type": "markdown",
   "id": "edfc39a0",
   "metadata": {},
   "source": [
    "## Side note: visualizations\n",
    "If you want to see this all in a much prettier format, you can use [displacy](https://spacy.io/usage/visualizers). "
   ]
  },
  {
   "cell_type": "code",
   "execution_count": 24,
   "id": "c1c639b9",
   "metadata": {},
   "outputs": [],
   "source": [
    "from spacy import displacy"
   ]
  },
  {
   "cell_type": "code",
   "execution_count": 25,
   "id": "d70c7cf6",
   "metadata": {},
   "outputs": [
    {
     "data": {
      "text/html": [
       "<span class=\"tex2jax_ignore\"><div class=\"entities\" style=\"line-height: 2.5; direction: ltr\"> CTV Vancouver. <br> An Abbotsford, B.C. couple that has been waiting nearly two years to bring their newly adopted son home from Africa has learned that the Canadian government is not prepared to grant the child citizenship. <br> \n",
       "<mark class=\"entity\" style=\"background: lightsteelblue; padding: 0.45em 0.6em; margin: 0 0.25em; line-height: 1; border-radius: 0.35em;\">\n",
       "    Kim\n",
       "    <span style=\"font-size: 0.8em; font-weight: bold; line-height: 1; border-radius: 0.35em; vertical-align: middle; margin-left: 0.5rem\">PERSON</span>\n",
       "</mark>\n",
       " and \n",
       "<mark class=\"entity\" style=\"background: lightsteelblue; padding: 0.45em 0.6em; margin: 0 0.25em; line-height: 1; border-radius: 0.35em;\">\n",
       "    Clark Moran\n",
       "    <span style=\"font-size: 0.8em; font-weight: bold; line-height: 1; border-radius: 0.35em; vertical-align: middle; margin-left: 0.5rem\">PERSON</span>\n",
       "</mark>\n",
       " received a letter this week from Immigration, Refugees and Citizenship Canada informing them that the federal department has concerns about two-year-old \n",
       "<mark class=\"entity\" style=\"background: lightsteelblue; padding: 0.45em 0.6em; margin: 0 0.25em; line-height: 1; border-radius: 0.35em;\">\n",
       "    Ayo\n",
       "    <span style=\"font-size: 0.8em; font-weight: bold; line-height: 1; border-radius: 0.35em; vertical-align: middle; margin-left: 0.5rem\">PERSON</span>\n",
       "</mark>\n",
       ", whom the couple claims they adopted from an orphanage in Nigeria and gained custody of in August. <br> &quot;Honestly, it feels like we're living our worst nightmare right now,&quot; \n",
       "<mark class=\"entity\" style=\"background: lightsteelblue; padding: 0.45em 0.6em; margin: 0 0.25em; line-height: 1; border-radius: 0.35em;\">\n",
       "    Kim\n",
       "    <span style=\"font-size: 0.8em; font-weight: bold; line-height: 1; border-radius: 0.35em; vertical-align: middle; margin-left: 0.5rem\">PERSON</span>\n",
       "</mark>\n",
       " told CTV News Friday. &quot;The fact that we are being accused right now of an unethical adoption is crazy.&quot;. <br> CTV News has learned that a third party has come forward with an allegation that \n",
       "<mark class=\"entity\" style=\"background: lightsteelblue; padding: 0.45em 0.6em; margin: 0 0.25em; line-height: 1; border-radius: 0.35em;\">\n",
       "    Ayo\n",
       "    <span style=\"font-size: 0.8em; font-weight: bold; line-height: 1; border-radius: 0.35em; vertical-align: middle; margin-left: 0.5rem\">PERSON</span>\n",
       "</mark>\n",
       "'s adoption came from a private residence and not an orphanage. <br> &quot;It does say that in the letter,&quot; \n",
       "<mark class=\"entity\" style=\"background: lightsteelblue; padding: 0.45em 0.6em; margin: 0 0.25em; line-height: 1; border-radius: 0.35em;\">\n",
       "    Kim\n",
       "    <span style=\"font-size: 0.8em; font-weight: bold; line-height: 1; border-radius: 0.35em; vertical-align: middle; margin-left: 0.5rem\">PERSON</span>\n",
       "</mark>\n",
       " confirmed, adding that &quot;I have no idea where that information came from because both \n",
       "<mark class=\"entity\" style=\"background: lightsteelblue; padding: 0.45em 0.6em; margin: 0 0.25em; line-height: 1; border-radius: 0.35em;\">\n",
       "    Clark\n",
       "    <span style=\"font-size: 0.8em; font-weight: bold; line-height: 1; border-radius: 0.35em; vertical-align: middle; margin-left: 0.5rem\">PERSON</span>\n",
       "</mark>\n",
       " and I were there in the office with all of the workers from the orphanage.&quot;. <br> \n",
       "<mark class=\"entity\" style=\"background: lightsteelblue; padding: 0.45em 0.6em; margin: 0 0.25em; line-height: 1; border-radius: 0.35em;\">\n",
       "    Kim\n",
       "    <span style=\"font-size: 0.8em; font-weight: bold; line-height: 1; border-radius: 0.35em; vertical-align: middle; margin-left: 0.5rem\">PERSON</span>\n",
       "</mark>\n",
       " would not share a copy of the letter with CTV. <br> In a statement, IRCC did not reveal any details regarding the \n",
       "<mark class=\"entity\" style=\"background: lightsteelblue; padding: 0.45em 0.6em; margin: 0 0.25em; line-height: 1; border-radius: 0.35em;\">\n",
       "    Ayo\n",
       "    <span style=\"font-size: 0.8em; font-weight: bold; line-height: 1; border-radius: 0.35em; vertical-align: middle; margin-left: 0.5rem\">PERSON</span>\n",
       "</mark>\n",
       "'s paperwork, but said &quot;the Government of Canada has obligations under international conventions to ensure children are not abducted, bought or sold, or removed from their biological families without legal consent.&quot;. <br> The department added that &quot;in some cases, extra steps in the citizenship or immigration process may be needed to make sure the adoption meets all requirements of international adoption.&quot;. <br> The \n",
       "<mark class=\"entity\" style=\"background: lightsteelblue; padding: 0.45em 0.6em; margin: 0 0.25em; line-height: 1; border-radius: 0.35em;\">\n",
       "    Morans\n",
       "    <span style=\"font-size: 0.8em; font-weight: bold; line-height: 1; border-radius: 0.35em; vertical-align: middle; margin-left: 0.5rem\">PERSON</span>\n",
       "</mark>\n",
       "' story first made headlines in October, some three months after they first travelled to Africa to finalize the adoption. <br> According to \n",
       "<mark class=\"entity\" style=\"background: lightsteelblue; padding: 0.45em 0.6em; margin: 0 0.25em; line-height: 1; border-radius: 0.35em;\">\n",
       "    Kim\n",
       "    <span style=\"font-size: 0.8em; font-weight: bold; line-height: 1; border-radius: 0.35em; vertical-align: middle; margin-left: 0.5rem\">PERSON</span>\n",
       "</mark>\n",
       ", the Canadian high commission in Nigeria doesn't have an immigration office, so all adoptions out of that country have to be processed in Ghana. <br> Thinking that the immigration papers that would allow them to bring \n",
       "<mark class=\"entity\" style=\"background: lightsteelblue; padding: 0.45em 0.6em; margin: 0 0.25em; line-height: 1; border-radius: 0.35em;\">\n",
       "    Ayo\n",
       "    <span style=\"font-size: 0.8em; font-weight: bold; line-height: 1; border-radius: 0.35em; vertical-align: middle; margin-left: 0.5rem\">PERSON</span>\n",
       "</mark>\n",
       " back to B.C. wouldn't take more than a few weeks to be finalized, \n",
       "<mark class=\"entity\" style=\"background: lightsteelblue; padding: 0.45em 0.6em; margin: 0 0.25em; line-height: 1; border-radius: 0.35em;\">\n",
       "    Clark\n",
       "    <span style=\"font-size: 0.8em; font-weight: bold; line-height: 1; border-radius: 0.35em; vertical-align: middle; margin-left: 0.5rem\">PERSON</span>\n",
       "</mark>\n",
       " headed back to Canada while \n",
       "<mark class=\"entity\" style=\"background: lightsteelblue; padding: 0.45em 0.6em; margin: 0 0.25em; line-height: 1; border-radius: 0.35em;\">\n",
       "    Kim\n",
       "    <span style=\"font-size: 0.8em; font-weight: bold; line-height: 1; border-radius: 0.35em; vertical-align: middle; margin-left: 0.5rem\">PERSON</span>\n",
       "</mark>\n",
       " and their son remained in Accra. <br> It would be months, however, before the family got an update. <br> \n",
       "<mark class=\"entity\" style=\"background: lightsteelblue; padding: 0.45em 0.6em; margin: 0 0.25em; line-height: 1; border-radius: 0.35em;\">\n",
       "    Kim\n",
       "    <span style=\"font-size: 0.8em; font-weight: bold; line-height: 1; border-radius: 0.35em; vertical-align: middle; margin-left: 0.5rem\">PERSON</span>\n",
       "</mark>\n",
       " was forced to switch places with \n",
       "<mark class=\"entity\" style=\"background: lightsteelblue; padding: 0.45em 0.6em; margin: 0 0.25em; line-height: 1; border-radius: 0.35em;\">\n",
       "    Clark\n",
       "    <span style=\"font-size: 0.8em; font-weight: bold; line-height: 1; border-radius: 0.35em; vertical-align: middle; margin-left: 0.5rem\">PERSON</span>\n",
       "</mark>\n",
       " late last month after her multiple sclerosis flared up. <br> He is now in Ghana with \n",
       "<mark class=\"entity\" style=\"background: lightsteelblue; padding: 0.45em 0.6em; margin: 0 0.25em; line-height: 1; border-radius: 0.35em;\">\n",
       "    Ayo\n",
       "    <span style=\"font-size: 0.8em; font-weight: bold; line-height: 1; border-radius: 0.35em; vertical-align: middle; margin-left: 0.5rem\">PERSON</span>\n",
       "</mark>\n",
       " and she is back in B.C., but it's unclear what the family's future will look like. <br> &quot;If Canada doesn't grant him citizenship, what happens? They send him back to Nigeria to an orphanage? They take him from us even though he's legally our son?&quot; \n",
       "<mark class=\"entity\" style=\"background: lightsteelblue; padding: 0.45em 0.6em; margin: 0 0.25em; line-height: 1; border-radius: 0.35em;\">\n",
       "    Kim\n",
       "    <span style=\"font-size: 0.8em; font-weight: bold; line-height: 1; border-radius: 0.35em; vertical-align: middle; margin-left: 0.5rem\">PERSON</span>\n",
       "</mark>\n",
       " said. <br> IRCC has told CTV that under ideal circumstances, the two-step adoption and immigration process can take between six and eight months, but that timeframe can be as long as two years depending on the child's country of origin and other factors. <br> The \n",
       "<mark class=\"entity\" style=\"background: lightsteelblue; padding: 0.45em 0.6em; margin: 0 0.25em; line-height: 1; border-radius: 0.35em;\">\n",
       "    Morans\n",
       "    <span style=\"font-size: 0.8em; font-weight: bold; line-height: 1; border-radius: 0.35em; vertical-align: middle; margin-left: 0.5rem\">PERSON</span>\n",
       "</mark>\n",
       "' paperwork was received in February 2017. A year and 10 months later, the family's adoption process is at the top end of the government's estimated timeline, but has not exceeded it. <br> The Morans have 60 days to respond to the letter, and the IRCC stressed Friday that a final decision on \n",
       "<mark class=\"entity\" style=\"background: lightsteelblue; padding: 0.45em 0.6em; margin: 0 0.25em; line-height: 1; border-radius: 0.35em;\">\n",
       "    Ayo\n",
       "    <span style=\"font-size: 0.8em; font-weight: bold; line-height: 1; border-radius: 0.35em; vertical-align: middle; margin-left: 0.5rem\">PERSON</span>\n",
       "</mark>\n",
       "'s citizenship application has not yet been made. <br> \n",
       "<mark class=\"entity\" style=\"background: lightsteelblue; padding: 0.45em 0.6em; margin: 0 0.25em; line-height: 1; border-radius: 0.35em;\">\n",
       "    Kim\n",
       "    <span style=\"font-size: 0.8em; font-weight: bold; line-height: 1; border-radius: 0.35em; vertical-align: middle; margin-left: 0.5rem\">PERSON</span>\n",
       "</mark>\n",
       " said the family is working with an immigration lawyer as well as the adoption agency, whose name she would not reveal, as they weigh their options. <br> &quot;We're not giving up, but it feels really overwhelming to think about what this means and what they're trying to do to us right now,&quot; she said. <br> &quot;I can't believe that this is our life, that this is our story.&quot;. <br> With files from CTV Vancouver's \n",
       "<mark class=\"entity\" style=\"background: lightsteelblue; padding: 0.45em 0.6em; margin: 0 0.25em; line-height: 1; border-radius: 0.35em;\">\n",
       "    Ben Miljure\n",
       "    <span style=\"font-size: 0.8em; font-weight: bold; line-height: 1; border-radius: 0.35em; vertical-align: middle; margin-left: 0.5rem\">PERSON</span>\n",
       "</mark>\n",
       "</div></span>"
      ],
      "text/plain": [
       "<IPython.core.display.HTML object>"
      ]
     },
     "metadata": {},
     "output_type": "display_data"
    }
   ],
   "source": [
    "options = {\"ents\": [\"PERSON\"],\n",
    "          \"colors\": {\"PERSON\": \"lightsteelblue\"}}\n",
    "\n",
    "displacy.render(doc1, style=\"ent\", options=options, jupyter=True)"
   ]
  },
  {
   "cell_type": "markdown",
   "id": "f44f9ae8",
   "metadata": {},
   "source": [
    "## Part 4: Run the quote extraction from Assignment 1\n",
    "I suggest using the Matcher quote extraction system from A1, but, if you implemented your own version, or improved on this one, feel free to use that instead."
   ]
  },
  {
   "cell_type": "code",
   "execution_count": 26,
   "id": "eeaa3624",
   "metadata": {},
   "outputs": [],
   "source": [
    "#import what we need for this\n",
    "from spacy.matcher import Matcher\n",
    "\n",
    "matcher = Matcher(nlp.vocab)"
   ]
  },
  {
   "cell_type": "code",
   "execution_count": 31,
   "id": "027a0c5a",
   "metadata": {},
   "outputs": [
    {
     "name": "stdout",
     "output_type": "stream",
     "text": [
      "3\n",
      "(16432004385153140588, 115, 133) \"The fact that we are being accused right now of an unethical adoption is crazy.\"\n",
      "(16432004385153140588, 164, 174) \"It does say that in the letter,\"\n",
      "(16432004385153140588, 179, 209) \"I have no idea where that information came from because both Clark and I were there in the office with all of the workers from the orphanage.\"\n"
     ]
    }
   ],
   "source": [
    "# we don't need to load the text again; use text1 from above\n",
    "\n",
    "matcher = Matcher(nlp.vocab)\n",
    "pattern_q = [{'ORTH': '\"'}, {'IS_ALPHA': True, \"OP\": \"+\"}, {'IS_PUNCT': True, \"OP\": \"*\"}, {'ORTH': '\"'}]\n",
    "matcher.add(\"QUOTES\", [pattern_q], greedy='LONGEST')\n",
    "doc = nlp(text1)\n",
    "matches_q = matcher(doc)\n",
    "matches_q.sort(key = lambda x: x[1])\n",
    "print (len(matches_q))\n",
    "for match in matches_q[:10]:\n",
    " print (match, doc[match[1]:match[2]])"
   ]
  },
  {
   "cell_type": "code",
   "execution_count": 30,
   "id": "f1ce7f3a",
   "metadata": {},
   "outputs": [
    {
     "name": "stdout",
     "output_type": "stream",
     "text": [
      "7\n",
      "(16432004385153140588, 108, 116) \" Kim told CTV News Friday. \"\n",
      "\n",
      "\n",
      "(16432004385153140588, 115, 133) \"The fact that we are being accused right now of an unethical adoption is crazy.\"\n",
      "\n",
      "\n",
      "(16432004385153140588, 108, 133) \" Kim told CTV News Friday. \"The fact that we are being accused right now of an unethical adoption is crazy.\"\n",
      "\n",
      "\n",
      "(16432004385153140588, 164, 174) \"It does say that in the letter,\"\n",
      "\n",
      "\n",
      "(16432004385153140588, 173, 180) \" Kim confirmed, adding that \"\n",
      "\n",
      "\n",
      "(16432004385153140588, 179, 209) \"I have no idea where that information came from because both Clark and I were there in the office with all of the workers from the orphanage.\"\n",
      "\n",
      "\n",
      "(16432004385153140588, 280, 309) \"in some cases, extra steps in the citizenship or immigration process may be needed to make sure the adoption meets all requirements of international adoption.\"\n",
      "\n",
      "\n"
     ]
    }
   ],
   "source": [
    "# \"new approach/own version\" of Matcher\n",
    "\n",
    "\n",
    "with open (\"A1_data/5c1dbe1d1e67d78e2797d611.txt\", \"r\", encoding='utf-8') as f:\n",
    "    text = f.read()\n",
    "\n",
    "matcher = Matcher(nlp.vocab)\n",
    "    \n",
    "pattern_q16 = [{'ORTH': '\"'}, {'IS_ALPHA': True, \"OP\": \"*\"}, {'IS_PUNCT': True, \"OP\": \"*\"}, {'IS_ALPHA': True, \"OP\": \"*\"}, {'IS_PUNCT': True, \"OP\": \"*\"}, {'ORTH': '\"'}] #7\n",
    "pattern_q17 = [{'ORTH': '“'}, {'IS_ALPHA': True, \"OP\": \"*\"}, {'IS_PUNCT': True, \"OP\": \"*\"}, {'IS_ALPHA': True, \"OP\": \"*\"}, {'IS_PUNCT': True, \"OP\": \"*\"}, {'ORTH': '”'}] #4\n",
    "    # both curly and straight quotes\n",
    "    \n",
    "    \n",
    "matcher.add(\"QUOTES\", [pattern_q16, pattern_q17])\n",
    "doc = nlp(text)\n",
    "matches_q = matcher(doc)\n",
    "print(len(matches_q))\n",
    "for match in matches_q[:10]:\n",
    "    print(match, doc[match[1]:match[2]])\n",
    "    print(\"\\n\") #blank space between outputs\n",
    "    \n",
    "    \n",
    "    \n",
    "  #  matcher.add(\"QUOTES\", [pattern_q], greedy='LONGEST')\n",
    "#doc = nlp(text1)\n",
    "#matches_q = matcher(doc)\n",
    "#matches_q.sort(key = lambda x: x[1])\n",
    "#print (len(matches_q))\n",
    "#for match in matches_q[:10]:\n",
    " #   print (match, doc[match[1]:match[2]])"
   ]
  },
  {
   "cell_type": "markdown",
   "id": "a1dbdec3",
   "metadata": {},
   "source": [
    "## Your turn\n",
    "\n",
    "Check instructions on Canvas for what to do and what to submit. "
   ]
  },
  {
   "cell_type": "code",
   "execution_count": null,
   "id": "3f8066e8",
   "metadata": {},
   "outputs": [],
   "source": []
  }
 ],
 "metadata": {
  "kernelspec": {
   "display_name": "Python 3 (ipykernel)",
   "language": "python",
   "name": "python3"
  },
  "language_info": {
   "codemirror_mode": {
    "name": "ipython",
    "version": 3
   },
   "file_extension": ".py",
   "mimetype": "text/x-python",
   "name": "python",
   "nbconvert_exporter": "python",
   "pygments_lexer": "ipython3",
   "version": "3.11.5"
  }
 },
 "nbformat": 4,
 "nbformat_minor": 5
}
